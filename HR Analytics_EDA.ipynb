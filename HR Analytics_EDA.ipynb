{
 "cells": [
  {
   "cell_type": "markdown",
   "id": "ee3ef79e",
   "metadata": {},
   "source": [
    "# Exploratory Data Analysis on HR Analytics Data"
   ]
  },
  {
   "cell_type": "markdown",
   "id": "f36e6b39",
   "metadata": {},
   "source": [
    "# Identify the best source of recruitment for a tech startup, based on previous data of candidate sources and recruitment strategies \n"
   ]
  },
  {
   "cell_type": "code",
   "execution_count": null,
   "id": "f17266fc",
   "metadata": {},
   "outputs": [],
   "source": [
    "# EDA for HR Analytics Data"
   ]
  },
  {
   "cell_type": "code",
   "execution_count": null,
   "id": "abc8f25b",
   "metadata": {},
   "outputs": [],
   "source": [
    "# Steps for Analysing the HR Analytics Data"
   ]
  },
  {
   "cell_type": "markdown",
   "id": "4220f4b8",
   "metadata": {},
   "source": [
    ".Problem statement understanding\n",
    "\n",
    ".Data understanding\n",
    "\n",
    ".Data preparation"
   ]
  },
  {
   "cell_type": "code",
   "execution_count": null,
   "id": "a4bec8e6",
   "metadata": {},
   "outputs": [],
   "source": [
    "1-Importing libraries\n",
    "2-Importing the Dataset into Pandas Dataframe\n",
    "3-Data Cleaning, Missing Data Handling, performing Analysis like Univariate and Bivariate and Multivariate on HR Analytics."
   ]
  },
  {
   "cell_type": "markdown",
   "id": "9208dfee",
   "metadata": {},
   "source": [
    "Importing Necessery libraries"
   ]
  },
  {
   "cell_type": "code",
   "execution_count": 27,
   "id": "18cba17c",
   "metadata": {},
   "outputs": [],
   "source": [
    "#Import the libraries\n",
    "import matplotlib.pyplot as plt\n",
    "import seaborn as sns\n",
    "\n",
    "import pandas as pd\n",
    "import numpy as np\n",
    "from plotnine import ggplot, aes, geom_line\n",
    "\n",
    "import warnings\n",
    "warnings.filterwarnings(action=\"ignore\")\n",
    "\n",
    "plt.style.use('seaborn-poster')\n",
    "plt.style.use('fivethirtyeight')"
   ]
  },
  {
   "cell_type": "code",
   "execution_count": 11,
   "id": "06b42411",
   "metadata": {},
   "outputs": [
    {
     "data": {
      "text/html": [
       "<div>\n",
       "<style scoped>\n",
       "    .dataframe tbody tr th:only-of-type {\n",
       "        vertical-align: middle;\n",
       "    }\n",
       "\n",
       "    .dataframe tbody tr th {\n",
       "        vertical-align: top;\n",
       "    }\n",
       "\n",
       "    .dataframe thead th {\n",
       "        text-align: right;\n",
       "    }\n",
       "</style>\n",
       "<table border=\"1\" class=\"dataframe\">\n",
       "  <thead>\n",
       "    <tr style=\"text-align: right;\">\n",
       "      <th></th>\n",
       "      <th>attrition</th>\n",
       "      <th>performance_rating</th>\n",
       "      <th>sales_quota_pct</th>\n",
       "      <th>recruiting_source</th>\n",
       "    </tr>\n",
       "  </thead>\n",
       "  <tbody>\n",
       "    <tr>\n",
       "      <th>0</th>\n",
       "      <td>1</td>\n",
       "      <td>3</td>\n",
       "      <td>1.088190</td>\n",
       "      <td>Applied Online</td>\n",
       "    </tr>\n",
       "    <tr>\n",
       "      <th>1</th>\n",
       "      <td>0</td>\n",
       "      <td>3</td>\n",
       "      <td>2.394173</td>\n",
       "      <td>NaN</td>\n",
       "    </tr>\n",
       "    <tr>\n",
       "      <th>2</th>\n",
       "      <td>1</td>\n",
       "      <td>2</td>\n",
       "      <td>0.497530</td>\n",
       "      <td>Campus</td>\n",
       "    </tr>\n",
       "    <tr>\n",
       "      <th>3</th>\n",
       "      <td>0</td>\n",
       "      <td>2</td>\n",
       "      <td>2.513958</td>\n",
       "      <td>NaN</td>\n",
       "    </tr>\n",
       "    <tr>\n",
       "      <th>4</th>\n",
       "      <td>0</td>\n",
       "      <td>3</td>\n",
       "      <td>1.424789</td>\n",
       "      <td>Applied Online</td>\n",
       "    </tr>\n",
       "    <tr>\n",
       "      <th>5</th>\n",
       "      <td>1</td>\n",
       "      <td>3</td>\n",
       "      <td>0.548123</td>\n",
       "      <td>Referral</td>\n",
       "    </tr>\n",
       "    <tr>\n",
       "      <th>6</th>\n",
       "      <td>1</td>\n",
       "      <td>3</td>\n",
       "      <td>0.794213</td>\n",
       "      <td>Applied Online</td>\n",
       "    </tr>\n",
       "    <tr>\n",
       "      <th>7</th>\n",
       "      <td>0</td>\n",
       "      <td>2</td>\n",
       "      <td>1.006524</td>\n",
       "      <td>Referral</td>\n",
       "    </tr>\n",
       "    <tr>\n",
       "      <th>8</th>\n",
       "      <td>0</td>\n",
       "      <td>3</td>\n",
       "      <td>1.519917</td>\n",
       "      <td>Campus</td>\n",
       "    </tr>\n",
       "    <tr>\n",
       "      <th>9</th>\n",
       "      <td>0</td>\n",
       "      <td>3</td>\n",
       "      <td>2.073528</td>\n",
       "      <td>NaN</td>\n",
       "    </tr>\n",
       "  </tbody>\n",
       "</table>\n",
       "</div>"
      ],
      "text/plain": [
       "   attrition  performance_rating  sales_quota_pct recruiting_source\n",
       "0          1                   3         1.088190    Applied Online\n",
       "1          0                   3         2.394173               NaN\n",
       "2          1                   2         0.497530            Campus\n",
       "3          0                   2         2.513958               NaN\n",
       "4          0                   3         1.424789    Applied Online\n",
       "5          1                   3         0.548123          Referral\n",
       "6          1                   3         0.794213    Applied Online\n",
       "7          0                   2         1.006524          Referral\n",
       "8          0                   3         1.519917            Campus\n",
       "9          0                   3         2.073528               NaN"
      ]
     },
     "execution_count": 11,
     "metadata": {},
     "output_type": "execute_result"
    }
   ],
   "source": [
    "#Read data from CSV to a data frame\n",
    "#Read the dataset and check the first Ten rows\n",
    "import pandas as pd\n",
    "hr_df=pd.read_csv(\"Recruitment_Data.csv\")\n",
    "hr_df.head(10)"
   ]
  },
  {
   "cell_type": "code",
   "execution_count": 12,
   "id": "beda2102",
   "metadata": {},
   "outputs": [
    {
     "data": {
      "text/html": [
       "<div>\n",
       "<style scoped>\n",
       "    .dataframe tbody tr th:only-of-type {\n",
       "        vertical-align: middle;\n",
       "    }\n",
       "\n",
       "    .dataframe tbody tr th {\n",
       "        vertical-align: top;\n",
       "    }\n",
       "\n",
       "    .dataframe thead th {\n",
       "        text-align: right;\n",
       "    }\n",
       "</style>\n",
       "<table border=\"1\" class=\"dataframe\">\n",
       "  <thead>\n",
       "    <tr style=\"text-align: right;\">\n",
       "      <th></th>\n",
       "      <th>attrition</th>\n",
       "      <th>performance_rating</th>\n",
       "      <th>sales_quota_pct</th>\n",
       "      <th>recruiting_source</th>\n",
       "    </tr>\n",
       "  </thead>\n",
       "  <tbody>\n",
       "    <tr>\n",
       "      <th>0</th>\n",
       "      <td>1</td>\n",
       "      <td>3</td>\n",
       "      <td>1.088190</td>\n",
       "      <td>Applied Online</td>\n",
       "    </tr>\n",
       "    <tr>\n",
       "      <th>1</th>\n",
       "      <td>0</td>\n",
       "      <td>3</td>\n",
       "      <td>2.394173</td>\n",
       "      <td>NaN</td>\n",
       "    </tr>\n",
       "    <tr>\n",
       "      <th>2</th>\n",
       "      <td>1</td>\n",
       "      <td>2</td>\n",
       "      <td>0.497530</td>\n",
       "      <td>Campus</td>\n",
       "    </tr>\n",
       "    <tr>\n",
       "      <th>3</th>\n",
       "      <td>0</td>\n",
       "      <td>2</td>\n",
       "      <td>2.513958</td>\n",
       "      <td>NaN</td>\n",
       "    </tr>\n",
       "    <tr>\n",
       "      <th>4</th>\n",
       "      <td>0</td>\n",
       "      <td>3</td>\n",
       "      <td>1.424789</td>\n",
       "      <td>Applied Online</td>\n",
       "    </tr>\n",
       "    <tr>\n",
       "      <th>...</th>\n",
       "      <td>...</td>\n",
       "      <td>...</td>\n",
       "      <td>...</td>\n",
       "      <td>...</td>\n",
       "    </tr>\n",
       "    <tr>\n",
       "      <th>441</th>\n",
       "      <td>0</td>\n",
       "      <td>3</td>\n",
       "      <td>1.627813</td>\n",
       "      <td>Campus</td>\n",
       "    </tr>\n",
       "    <tr>\n",
       "      <th>442</th>\n",
       "      <td>1</td>\n",
       "      <td>4</td>\n",
       "      <td>0.689682</td>\n",
       "      <td>Referral</td>\n",
       "    </tr>\n",
       "    <tr>\n",
       "      <th>443</th>\n",
       "      <td>0</td>\n",
       "      <td>4</td>\n",
       "      <td>1.196198</td>\n",
       "      <td>NaN</td>\n",
       "    </tr>\n",
       "    <tr>\n",
       "      <th>444</th>\n",
       "      <td>0</td>\n",
       "      <td>4</td>\n",
       "      <td>1.598213</td>\n",
       "      <td>Applied Online</td>\n",
       "    </tr>\n",
       "    <tr>\n",
       "      <th>445</th>\n",
       "      <td>0</td>\n",
       "      <td>2</td>\n",
       "      <td>0.582642</td>\n",
       "      <td>NaN</td>\n",
       "    </tr>\n",
       "  </tbody>\n",
       "</table>\n",
       "<p>446 rows × 4 columns</p>\n",
       "</div>"
      ],
      "text/plain": [
       "     attrition  performance_rating  sales_quota_pct recruiting_source\n",
       "0            1                   3         1.088190    Applied Online\n",
       "1            0                   3         2.394173               NaN\n",
       "2            1                   2         0.497530            Campus\n",
       "3            0                   2         2.513958               NaN\n",
       "4            0                   3         1.424789    Applied Online\n",
       "..         ...                 ...              ...               ...\n",
       "441          0                   3         1.627813            Campus\n",
       "442          1                   4         0.689682          Referral\n",
       "443          0                   4         1.196198               NaN\n",
       "444          0                   4         1.598213    Applied Online\n",
       "445          0                   2         0.582642               NaN\n",
       "\n",
       "[446 rows x 4 columns]"
      ]
     },
     "execution_count": 12,
     "metadata": {},
     "output_type": "execute_result"
    }
   ],
   "source": [
    "hr_df"
   ]
  },
  {
   "cell_type": "code",
   "execution_count": 13,
   "id": "31c35b42",
   "metadata": {},
   "outputs": [
    {
     "data": {
      "text/plain": [
       "(446, 4)"
      ]
     },
     "execution_count": 13,
     "metadata": {},
     "output_type": "execute_result"
    }
   ],
   "source": [
    "# checking the shape of the dataset\n",
    "hr_df.shape # There are total 446 rows and 4 columns are there in HR Analytics dataset"
   ]
  },
  {
   "cell_type": "code",
   "execution_count": 14,
   "id": "0420e310",
   "metadata": {},
   "outputs": [
    {
     "data": {
      "text/plain": [
       "attrition               int64\n",
       "performance_rating      int64\n",
       "sales_quota_pct       float64\n",
       "recruiting_source      object\n",
       "dtype: object"
      ]
     },
     "execution_count": 14,
     "metadata": {},
     "output_type": "execute_result"
    }
   ],
   "source": [
    "# checking the data types of a data set\n",
    "hr_df.dtypes"
   ]
  },
  {
   "cell_type": "code",
   "execution_count": 15,
   "id": "e673df94",
   "metadata": {},
   "outputs": [],
   "source": [
    "# separating the workers into two dataframes according to Attrition and compare their averages\n",
    "\n",
    "import pandas as pd\n",
    "hr_df=pd.read_csv(\"Recruitment_Data.csv\")\n",
    "attrition_yes = hr_df.loc[hr_df[\"attrition\"] == 1]\n",
    "attrition_no = hr_df.loc[hr_df[\"attrition\"] == 0]\n"
   ]
  },
  {
   "cell_type": "code",
   "execution_count": 16,
   "id": "8d9ce853",
   "metadata": {},
   "outputs": [
    {
     "data": {
      "text/html": [
       "<style type=\"text/css\">\n",
       "#T_b3949_row0_col0, #T_b3949_row1_col1, #T_b3949_row2_col1 {\n",
       "  background-color: #1f77b4;\n",
       "  color: #f1f1f1;\n",
       "}\n",
       "#T_b3949_row0_col1, #T_b3949_row1_col0, #T_b3949_row2_col0 {\n",
       "  background-color: #9edae5;\n",
       "  color: #000000;\n",
       "}\n",
       "</style>\n",
       "<table id=\"T_b3949\">\n",
       "  <thead>\n",
       "    <tr>\n",
       "      <th class=\"blank level0\" >&nbsp;</th>\n",
       "      <th id=\"T_b3949_level0_col0\" class=\"col_heading level0 col0\" >Yes</th>\n",
       "      <th id=\"T_b3949_level0_col1\" class=\"col_heading level0 col1\" >No</th>\n",
       "    </tr>\n",
       "  </thead>\n",
       "  <tbody>\n",
       "    <tr>\n",
       "      <th id=\"T_b3949_level0_row0\" class=\"row_heading level0 row0\" >attrition</th>\n",
       "      <td id=\"T_b3949_row0_col0\" class=\"data row0 col0\" >1.000000</td>\n",
       "      <td id=\"T_b3949_row0_col1\" class=\"data row0 col1\" >0.000000</td>\n",
       "    </tr>\n",
       "    <tr>\n",
       "      <th id=\"T_b3949_level0_row1\" class=\"row_heading level0 row1\" >performance_rating</th>\n",
       "      <td id=\"T_b3949_row1_col0\" class=\"data row1 col0\" >2.860000</td>\n",
       "      <td id=\"T_b3949_row1_col1\" class=\"data row1 col1\" >2.900000</td>\n",
       "    </tr>\n",
       "    <tr>\n",
       "      <th id=\"T_b3949_level0_row2\" class=\"row_heading level0 row2\" >sales_quota_pct</th>\n",
       "      <td id=\"T_b3949_row2_col0\" class=\"data row2 col0\" >1.020000</td>\n",
       "      <td id=\"T_b3949_row2_col1\" class=\"data row2 col1\" >1.100000</td>\n",
       "    </tr>\n",
       "  </tbody>\n",
       "</table>\n"
      ],
      "text/plain": [
       "<pandas.io.formats.style.Styler at 0x219bf675430>"
      ]
     },
     "execution_count": 16,
     "metadata": {},
     "output_type": "execute_result"
    }
   ],
   "source": [
    "# I use concat to join the two DF, rename the columns and then give it some color :)\n",
    "hr_df_mean_attrition = pd.concat((attrition_yes.mean(),attrition_no.mean()),axis=1)\n",
    "hr_df_mean_attrition.columns = [\"Yes\",\"No\"]\n",
    "hr_df_mean_attrition.round(2).style.background_gradient(cmap=\"tab20_r\",axis=1)\n"
   ]
  },
  {
   "cell_type": "markdown",
   "id": "a60e68f5",
   "metadata": {},
   "source": [
    "# Identify groups in the dataset\n"
   ]
  },
  {
   "cell_type": "code",
   "execution_count": 17,
   "id": "db70e913",
   "metadata": {},
   "outputs": [
    {
     "name": "stdout",
     "output_type": "stream",
     "text": [
      "attrition\n",
      "0    173\n",
      "1     68\n",
      "Name: recruiting_source, dtype: int64\n"
     ]
    }
   ],
   "source": [
    "Recruitment=hr_df.groupby(\"attrition\")[\"recruiting_source\"].count()\n",
    "print(Recruitment)"
   ]
  },
  {
   "cell_type": "code",
   "execution_count": 18,
   "id": "411f0eb9",
   "metadata": {},
   "outputs": [],
   "source": [
    "# After identifying the groups in the dataset there are having highest no.of employees who are surviving in their company.Lowest \n",
    "# no.of employees who are resigned or left in their company."
   ]
  },
  {
   "cell_type": "code",
   "execution_count": 19,
   "id": "5e6968e1",
   "metadata": {},
   "outputs": [
    {
     "data": {
      "text/plain": [
       "<pandas.core.groupby.generic.DataFrameGroupBy object at 0x00000219C76D5F70>"
      ]
     },
     "execution_count": 19,
     "metadata": {},
     "output_type": "execute_result"
    }
   ],
   "source": [
    "hr_df.groupby(['recruiting_source'])"
   ]
  },
  {
   "cell_type": "code",
   "execution_count": 20,
   "id": "de4372ad",
   "metadata": {},
   "outputs": [
    {
     "name": "stdout",
     "output_type": "stream",
     "text": [
      "                   attrition  performance_rating  sales_quota_pct\n",
      "recruiting_source                                                \n",
      "Applied Online            32                 381       137.616724\n",
      "Campus                    16                 164        50.849983\n",
      "Referral                  15                 128        46.043918\n",
      "Search Firm                5                  27         8.869603\n"
     ]
    }
   ],
   "source": [
    "hr_df = pd.DataFrame(hr_df)\n",
    "\n",
    "print(hr_df.groupby([\"recruiting_source\"]).sum())\n"
   ]
  },
  {
   "cell_type": "code",
   "execution_count": 21,
   "id": "dcab6e3a",
   "metadata": {},
   "outputs": [],
   "source": [
    "grouped_df = hr_df.groupby('recruiting_source').mean()\n"
   ]
  },
  {
   "cell_type": "code",
   "execution_count": 22,
   "id": "907b0d09",
   "metadata": {},
   "outputs": [
    {
     "name": "stdout",
     "output_type": "stream",
     "text": [
      "                   attrition  performance_rating  sales_quota_pct\n",
      "recruiting_source                                                \n",
      "Applied Online      0.246154            2.930769         1.058590\n",
      "Campus              0.285714            2.928571         0.908035\n",
      "Referral            0.333333            2.844444         1.023198\n",
      "Search Firm         0.500000            2.700000         0.886960\n"
     ]
    }
   ],
   "source": [
    "print(grouped_df)"
   ]
  },
  {
   "cell_type": "code",
   "execution_count": 23,
   "id": "1b25c2ae",
   "metadata": {},
   "outputs": [
    {
     "data": {
      "text/plain": [
       "1784"
      ]
     },
     "execution_count": 23,
     "metadata": {},
     "output_type": "execute_result"
    }
   ],
   "source": [
    "# It returns total number of elements in dataset\n",
    "hr_df.size"
   ]
  },
  {
   "cell_type": "markdown",
   "id": "cb132756",
   "metadata": {},
   "source": [
    "# Checking Average Sales Numbers and Attrition Numbers\n"
   ]
  },
  {
   "cell_type": "code",
   "execution_count": 24,
   "id": "71e818bd",
   "metadata": {},
   "outputs": [],
   "source": [
    "cross_tab = pd.crosstab(hr_df['recruiting_source'], hr_df['attrition'])"
   ]
  },
  {
   "cell_type": "code",
   "execution_count": 25,
   "id": "1b719a41",
   "metadata": {},
   "outputs": [
    {
     "name": "stdout",
     "output_type": "stream",
     "text": [
      "attrition           0   1\n",
      "recruiting_source        \n",
      "Applied Online     98  32\n",
      "Campus             40  16\n",
      "Referral           30  15\n",
      "Search Firm         5   5\n"
     ]
    }
   ],
   "source": [
    "print(cross_tab)"
   ]
  },
  {
   "cell_type": "markdown",
   "id": "e6c112d7",
   "metadata": {},
   "source": [
    "Printing out the average Sales Number grouped by Recruiting Source"
   ]
  },
  {
   "cell_type": "code",
   "execution_count": 26,
   "id": "ecf6f3ca",
   "metadata": {},
   "outputs": [
    {
     "name": "stdout",
     "output_type": "stream",
     "text": [
      "recruiting_source\n",
      "Applied Online    1.058590\n",
      "Campus            0.908035\n",
      "Referral          1.023198\n",
      "Search Firm       0.886960\n",
      "Name: sales_quota_pct, dtype: float64\n"
     ]
    }
   ],
   "source": [
    "# Group the data by Recruiting Source and compute the average Sales Number for each group\n",
    "avg_sales_by_source = hr_df.groupby('recruiting_source')['sales_quota_pct'].mean()\n",
    "\n",
    "# Print the results\n",
    "print(avg_sales_by_source)\n"
   ]
  },
  {
   "cell_type": "markdown",
   "id": "1cbb8697",
   "metadata": {},
   "source": [
    "Printing out the average Attrition Number grouped by Recruiting Source\n"
   ]
  },
  {
   "cell_type": "code",
   "execution_count": 27,
   "id": "4c808675",
   "metadata": {},
   "outputs": [
    {
     "name": "stdout",
     "output_type": "stream",
     "text": [
      "recruiting_source\n",
      "Applied Online    0.246154\n",
      "Campus            0.285714\n",
      "Referral          0.333333\n",
      "Search Firm       0.500000\n",
      "Name: attrition, dtype: float64\n"
     ]
    }
   ],
   "source": [
    "# Group the data by Recruiting Source and compute the average Attrition Number for each group\n",
    "avg_attrition_by_source = hr_df.groupby('recruiting_source')['attrition'].mean()\n",
    "\n",
    "# Print the results\n",
    "print(avg_attrition_by_source)"
   ]
  },
  {
   "cell_type": "code",
   "execution_count": 28,
   "id": "f6b54dc9",
   "metadata": {},
   "outputs": [],
   "source": [
    "# Here that sources that have high Sales numbers and low Attrition numbers."
   ]
  },
  {
   "cell_type": "code",
   "execution_count": 29,
   "id": "2010fca2",
   "metadata": {},
   "outputs": [
    {
     "name": "stdout",
     "output_type": "stream",
     "text": [
      "recruiting_source\n",
      "Applied Online    130\n",
      "Campus             56\n",
      "Referral           45\n",
      "Search Firm        10\n",
      "dtype: int64\n"
     ]
    }
   ],
   "source": [
    "# Group data by Recruiting Source\n",
    "grouped = hr_df.groupby('recruiting_source')\n",
    "\n",
    "# Count the number of occurrences for each group\n",
    "counts = grouped.size()\n",
    "\n",
    "# Print the results\n",
    "print(counts)"
   ]
  },
  {
   "cell_type": "code",
   "execution_count": 30,
   "id": "8e415d71",
   "metadata": {},
   "outputs": [],
   "source": [
    "# Grouping by total columns"
   ]
  },
  {
   "cell_type": "code",
   "execution_count": 31,
   "id": "6b11b72e",
   "metadata": {},
   "outputs": [
    {
     "data": {
      "text/html": [
       "<div>\n",
       "<style scoped>\n",
       "    .dataframe tbody tr th:only-of-type {\n",
       "        vertical-align: middle;\n",
       "    }\n",
       "\n",
       "    .dataframe tbody tr th {\n",
       "        vertical-align: top;\n",
       "    }\n",
       "\n",
       "    .dataframe thead th {\n",
       "        text-align: right;\n",
       "    }\n",
       "</style>\n",
       "<table border=\"1\" class=\"dataframe\">\n",
       "  <thead>\n",
       "    <tr style=\"text-align: right;\">\n",
       "      <th></th>\n",
       "      <th></th>\n",
       "      <th></th>\n",
       "      <th></th>\n",
       "    </tr>\n",
       "    <tr>\n",
       "      <th>attrition</th>\n",
       "      <th>performance_rating</th>\n",
       "      <th>sales_quota_pct</th>\n",
       "      <th>recruiting_source</th>\n",
       "    </tr>\n",
       "  </thead>\n",
       "  <tbody>\n",
       "    <tr>\n",
       "      <th rowspan=\"5\" valign=\"top\">0</th>\n",
       "      <th>1</th>\n",
       "      <th>1.976906</th>\n",
       "      <th>Applied Online</th>\n",
       "    </tr>\n",
       "    <tr>\n",
       "      <th rowspan=\"4\" valign=\"top\">2</th>\n",
       "      <th>-0.474431</th>\n",
       "      <th>Campus</th>\n",
       "    </tr>\n",
       "    <tr>\n",
       "      <th>-0.239220</th>\n",
       "      <th>Campus</th>\n",
       "    </tr>\n",
       "    <tr>\n",
       "      <th>0.004189</th>\n",
       "      <th>Applied Online</th>\n",
       "    </tr>\n",
       "    <tr>\n",
       "      <th>0.317765</th>\n",
       "      <th>Referral</th>\n",
       "    </tr>\n",
       "    <tr>\n",
       "      <th>...</th>\n",
       "      <th>...</th>\n",
       "      <th>...</th>\n",
       "      <th>...</th>\n",
       "    </tr>\n",
       "    <tr>\n",
       "      <th rowspan=\"5\" valign=\"top\">1</th>\n",
       "      <th rowspan=\"5\" valign=\"top\">4</th>\n",
       "      <th>1.338921</th>\n",
       "      <th>Campus</th>\n",
       "    </tr>\n",
       "    <tr>\n",
       "      <th>1.379484</th>\n",
       "      <th>Applied Online</th>\n",
       "    </tr>\n",
       "    <tr>\n",
       "      <th>1.988066</th>\n",
       "      <th>Applied Online</th>\n",
       "    </tr>\n",
       "    <tr>\n",
       "      <th>2.013828</th>\n",
       "      <th>Applied Online</th>\n",
       "    </tr>\n",
       "    <tr>\n",
       "      <th>3.030340</th>\n",
       "      <th>Campus</th>\n",
       "    </tr>\n",
       "  </tbody>\n",
       "</table>\n",
       "<p>241 rows × 0 columns</p>\n",
       "</div>"
      ],
      "text/plain": [
       "Empty DataFrame\n",
       "Columns: []\n",
       "Index: [(0, 1, 1.976906211, Applied Online), (0, 2, -0.474431203, Campus), (0, 2, -0.239220234, Campus), (0, 2, 0.004189019, Applied Online), (0, 2, 0.317765084, Referral), (0, 2, 0.421217115, Referral), (0, 2, 0.554076497, Applied Online), (0, 2, 0.620710627, Applied Online), (0, 2, 0.632941547, Applied Online), (0, 2, 0.678046205, Search Firm), (0, 2, 0.73178933, Referral), (0, 2, 0.778561531, Campus), (0, 2, 0.816487675, Applied Online), (0, 2, 0.903977583, Campus), (0, 2, 0.910585327, Applied Online), (0, 2, 0.936424442, Applied Online), (0, 2, 0.937444501, Applied Online), (0, 2, 0.942639118, Applied Online), (0, 2, 1.001371648, Referral), (0, 2, 1.006524423, Referral), (0, 2, 1.081976577, Campus), (0, 2, 1.10837549, Applied Online), (0, 2, 1.183785733, Applied Online), (0, 2, 1.305396927, Applied Online), (0, 2, 1.327002902, Referral), (0, 2, 1.367603566, Campus), (0, 2, 1.395772056, Referral), (0, 2, 1.42611085, Applied Online), (0, 2, 1.436987733, Campus), (0, 2, 1.470579429, Applied Online), (0, 2, 1.596278903, Applied Online), (0, 2, 1.645100618, Applied Online), (0, 2, 1.753637434, Applied Online), (0, 2, 1.760735094, Applied Online), (0, 2, 1.823216145, Applied Online), (0, 2, 1.840430662, Applied Online), (0, 2, 1.870081964, Referral), (0, 2, 1.942499255, Applied Online), (0, 2, 2.142970179, Campus), (0, 2, 2.176899621, Applied Online), (0, 2, 3.666739696, Referral), (0, 3, -0.627667242, Applied Online), (0, 3, -0.556073302, Campus), (0, 3, -0.191553685, Applied Online), (0, 3, -0.064948041, Search Firm), (0, 3, -0.061589749, Campus), (0, 3, 0.073589697, Applied Online), (0, 3, 0.084894907, Applied Online), (0, 3, 0.106998799, Applied Online), (0, 3, 0.108202056, Applied Online), (0, 3, 0.154740784, Referral), (0, 3, 0.189004418, Search Firm), (0, 3, 0.225125632, Campus), (0, 3, 0.248797122, Applied Online), (0, 3, 0.281994798, Referral), (0, 3, 0.304051687, Applied Online), (0, 3, 0.307372253, Applied Online), (0, 3, 0.31310585, Campus), (0, 3, 0.362379477, Applied Online), (0, 3, 0.366818274, Campus), (0, 3, 0.398907674, Campus), (0, 3, 0.411784209, Campus), (0, 3, 0.416650251, Applied Online), (0, 3, 0.421961082, Referral), (0, 3, 0.493475938, Campus), (0, 3, 0.502660186, Campus), (0, 3, 0.506631772, Applied Online), (0, 3, 0.50825871, Applied Online), (0, 3, 0.533871577, Campus), (0, 3, 0.542305963, Applied Online), (0, 3, 0.54659813, Applied Online), (0, 3, 0.558393493, Campus), (0, 3, 0.567705932, Campus), (0, 3, 0.580933906, Applied Online), (0, 3, 0.618811781, Campus), (0, 3, 0.664018071, Applied Online), (0, 3, 0.681826178, Referral), (0, 3, 0.690769357, Applied Online), (0, 3, 0.700070507, Applied Online), (0, 3, 0.717144277, Applied Online), (0, 3, 0.732530182, Applied Online), (0, 3, 0.78037289, Referral), (0, 3, 0.793227355, Referral), (0, 3, 0.806493232, Applied Online), (0, 3, 0.816504373, Applied Online), (0, 3, 0.825790823, Referral), (0, 3, 0.856272111, Applied Online), (0, 3, 0.862524227, Applied Online), (0, 3, 0.939095326, Referral), (0, 3, 0.957395105, Applied Online), (0, 3, 0.962445715, Applied Online), (0, 3, 0.979641159, Campus), (0, 3, 0.988873487, Referral), (0, 3, 0.990032764, Applied Online), (0, 3, 1.003446279, Applied Online), (0, 3, 1.018546915, Applied Online), (0, 3, 1.023242508, Referral), (0, 3, 1.052279905, Applied Online), (0, 3, 1.073352538, Applied Online), (0, 3, 1.09519894, Referral), ...]\n",
       "\n",
       "[241 rows x 0 columns]"
      ]
     },
     "execution_count": 31,
     "metadata": {},
     "output_type": "execute_result"
    }
   ],
   "source": [
    "hr_df.groupby(['attrition','performance_rating','sales_quota_pct','recruiting_source']).count()"
   ]
  },
  {
   "cell_type": "code",
   "execution_count": 32,
   "id": "27bb791a",
   "metadata": {},
   "outputs": [
    {
     "data": {
      "text/html": [
       "<div>\n",
       "<style scoped>\n",
       "    .dataframe tbody tr th:only-of-type {\n",
       "        vertical-align: middle;\n",
       "    }\n",
       "\n",
       "    .dataframe tbody tr th {\n",
       "        vertical-align: top;\n",
       "    }\n",
       "\n",
       "    .dataframe thead th {\n",
       "        text-align: right;\n",
       "    }\n",
       "</style>\n",
       "<table border=\"1\" class=\"dataframe\">\n",
       "  <thead>\n",
       "    <tr style=\"text-align: right;\">\n",
       "      <th></th>\n",
       "      <th>attrition</th>\n",
       "      <th>performance_rating</th>\n",
       "      <th>sales_quota_pct</th>\n",
       "    </tr>\n",
       "  </thead>\n",
       "  <tbody>\n",
       "    <tr>\n",
       "      <th>count</th>\n",
       "      <td>446.000000</td>\n",
       "      <td>446.000000</td>\n",
       "      <td>446.000000</td>\n",
       "    </tr>\n",
       "    <tr>\n",
       "      <th>mean</th>\n",
       "      <td>0.213004</td>\n",
       "      <td>2.894619</td>\n",
       "      <td>1.082607</td>\n",
       "    </tr>\n",
       "    <tr>\n",
       "      <th>std</th>\n",
       "      <td>0.409891</td>\n",
       "      <td>0.683755</td>\n",
       "      <td>0.710042</td>\n",
       "    </tr>\n",
       "    <tr>\n",
       "      <th>min</th>\n",
       "      <td>0.000000</td>\n",
       "      <td>1.000000</td>\n",
       "      <td>-0.710827</td>\n",
       "    </tr>\n",
       "    <tr>\n",
       "      <th>25%</th>\n",
       "      <td>0.000000</td>\n",
       "      <td>2.000000</td>\n",
       "      <td>0.584444</td>\n",
       "    </tr>\n",
       "    <tr>\n",
       "      <th>50%</th>\n",
       "      <td>0.000000</td>\n",
       "      <td>3.000000</td>\n",
       "      <td>1.070143</td>\n",
       "    </tr>\n",
       "    <tr>\n",
       "      <th>75%</th>\n",
       "      <td>0.000000</td>\n",
       "      <td>3.000000</td>\n",
       "      <td>1.532488</td>\n",
       "    </tr>\n",
       "    <tr>\n",
       "      <th>max</th>\n",
       "      <td>1.000000</td>\n",
       "      <td>5.000000</td>\n",
       "      <td>3.666740</td>\n",
       "    </tr>\n",
       "  </tbody>\n",
       "</table>\n",
       "</div>"
      ],
      "text/plain": [
       "        attrition  performance_rating  sales_quota_pct\n",
       "count  446.000000          446.000000       446.000000\n",
       "mean     0.213004            2.894619         1.082607\n",
       "std      0.409891            0.683755         0.710042\n",
       "min      0.000000            1.000000        -0.710827\n",
       "25%      0.000000            2.000000         0.584444\n",
       "50%      0.000000            3.000000         1.070143\n",
       "75%      0.000000            3.000000         1.532488\n",
       "max      1.000000            5.000000         3.666740"
      ]
     },
     "execution_count": 32,
     "metadata": {},
     "output_type": "execute_result"
    }
   ],
   "source": [
    "# The describe() method returns description of the data in the dataframe.\n",
    "hr_df.describe()"
   ]
  },
  {
   "cell_type": "markdown",
   "id": "dfc7d33d",
   "metadata": {},
   "source": [
    "# Data Handling and Cleaning"
   ]
  },
  {
   "cell_type": "code",
   "execution_count": 33,
   "id": "4682e9ce",
   "metadata": {},
   "outputs": [
    {
     "name": "stdout",
     "output_type": "stream",
     "text": [
      "Index(['attrition', 'performance_rating', 'sales_quota_pct',\n",
      "       'recruiting_source'],\n",
      "      dtype='object')\n"
     ]
    }
   ],
   "source": [
    "# printing all the columns in total dataset\n",
    "print(hr_df.columns)"
   ]
  },
  {
   "cell_type": "code",
   "execution_count": 34,
   "id": "027c8a10",
   "metadata": {},
   "outputs": [
    {
     "name": "stdout",
     "output_type": "stream",
     "text": [
      "<class 'pandas.core.frame.DataFrame'>\n",
      "RangeIndex: 446 entries, 0 to 445\n",
      "Data columns (total 4 columns):\n",
      " #   Column              Non-Null Count  Dtype  \n",
      "---  ------              --------------  -----  \n",
      " 0   attrition           446 non-null    int64  \n",
      " 1   performance_rating  446 non-null    int64  \n",
      " 2   sales_quota_pct     446 non-null    float64\n",
      " 3   recruiting_source   241 non-null    object \n",
      "dtypes: float64(1), int64(2), object(1)\n",
      "memory usage: 14.1+ KB\n"
     ]
    }
   ],
   "source": [
    "# Check the datatypes of all the columns of the dataframe\n",
    "hr_df.info()"
   ]
  },
  {
   "cell_type": "code",
   "execution_count": 35,
   "id": "84d82dfe",
   "metadata": {},
   "outputs": [
    {
     "data": {
      "text/plain": [
       "attrition               int64\n",
       "performance_rating      int64\n",
       "sales_quota_pct       float64\n",
       "recruiting_source      object\n",
       "dtype: object"
      ]
     },
     "execution_count": 35,
     "metadata": {},
     "output_type": "execute_result"
    }
   ],
   "source": [
    "hr_df.dtypes"
   ]
  },
  {
   "cell_type": "markdown",
   "id": "1af08e3c",
   "metadata": {},
   "source": [
    "# Missing Value Treatment"
   ]
  },
  {
   "cell_type": "code",
   "execution_count": 36,
   "id": "e8a1a3b1",
   "metadata": {},
   "outputs": [],
   "source": [
    "#In Data cleaning the first step is to check the missing values\n",
    "#Check the number of null(missing) values in the columns\n",
    "# Missing value means that values is not present in the data"
   ]
  },
  {
   "cell_type": "code",
   "execution_count": 37,
   "id": "c20d1fed",
   "metadata": {},
   "outputs": [
    {
     "data": {
      "text/html": [
       "<div>\n",
       "<style scoped>\n",
       "    .dataframe tbody tr th:only-of-type {\n",
       "        vertical-align: middle;\n",
       "    }\n",
       "\n",
       "    .dataframe tbody tr th {\n",
       "        vertical-align: top;\n",
       "    }\n",
       "\n",
       "    .dataframe thead th {\n",
       "        text-align: right;\n",
       "    }\n",
       "</style>\n",
       "<table border=\"1\" class=\"dataframe\">\n",
       "  <thead>\n",
       "    <tr style=\"text-align: right;\">\n",
       "      <th></th>\n",
       "      <th>attrition</th>\n",
       "      <th>performance_rating</th>\n",
       "      <th>sales_quota_pct</th>\n",
       "      <th>recruiting_source</th>\n",
       "    </tr>\n",
       "  </thead>\n",
       "  <tbody>\n",
       "    <tr>\n",
       "      <th>0</th>\n",
       "      <td>False</td>\n",
       "      <td>False</td>\n",
       "      <td>False</td>\n",
       "      <td>False</td>\n",
       "    </tr>\n",
       "    <tr>\n",
       "      <th>1</th>\n",
       "      <td>False</td>\n",
       "      <td>False</td>\n",
       "      <td>False</td>\n",
       "      <td>True</td>\n",
       "    </tr>\n",
       "    <tr>\n",
       "      <th>2</th>\n",
       "      <td>False</td>\n",
       "      <td>False</td>\n",
       "      <td>False</td>\n",
       "      <td>False</td>\n",
       "    </tr>\n",
       "    <tr>\n",
       "      <th>3</th>\n",
       "      <td>False</td>\n",
       "      <td>False</td>\n",
       "      <td>False</td>\n",
       "      <td>True</td>\n",
       "    </tr>\n",
       "    <tr>\n",
       "      <th>4</th>\n",
       "      <td>False</td>\n",
       "      <td>False</td>\n",
       "      <td>False</td>\n",
       "      <td>False</td>\n",
       "    </tr>\n",
       "    <tr>\n",
       "      <th>...</th>\n",
       "      <td>...</td>\n",
       "      <td>...</td>\n",
       "      <td>...</td>\n",
       "      <td>...</td>\n",
       "    </tr>\n",
       "    <tr>\n",
       "      <th>441</th>\n",
       "      <td>False</td>\n",
       "      <td>False</td>\n",
       "      <td>False</td>\n",
       "      <td>False</td>\n",
       "    </tr>\n",
       "    <tr>\n",
       "      <th>442</th>\n",
       "      <td>False</td>\n",
       "      <td>False</td>\n",
       "      <td>False</td>\n",
       "      <td>False</td>\n",
       "    </tr>\n",
       "    <tr>\n",
       "      <th>443</th>\n",
       "      <td>False</td>\n",
       "      <td>False</td>\n",
       "      <td>False</td>\n",
       "      <td>True</td>\n",
       "    </tr>\n",
       "    <tr>\n",
       "      <th>444</th>\n",
       "      <td>False</td>\n",
       "      <td>False</td>\n",
       "      <td>False</td>\n",
       "      <td>False</td>\n",
       "    </tr>\n",
       "    <tr>\n",
       "      <th>445</th>\n",
       "      <td>False</td>\n",
       "      <td>False</td>\n",
       "      <td>False</td>\n",
       "      <td>True</td>\n",
       "    </tr>\n",
       "  </tbody>\n",
       "</table>\n",
       "<p>446 rows × 4 columns</p>\n",
       "</div>"
      ],
      "text/plain": [
       "     attrition  performance_rating  sales_quota_pct  recruiting_source\n",
       "0        False               False            False              False\n",
       "1        False               False            False               True\n",
       "2        False               False            False              False\n",
       "3        False               False            False               True\n",
       "4        False               False            False              False\n",
       "..         ...                 ...              ...                ...\n",
       "441      False               False            False              False\n",
       "442      False               False            False              False\n",
       "443      False               False            False               True\n",
       "444      False               False            False              False\n",
       "445      False               False            False               True\n",
       "\n",
       "[446 rows x 4 columns]"
      ]
     },
     "execution_count": 37,
     "metadata": {},
     "output_type": "execute_result"
    }
   ],
   "source": [
    "#Check the number of null(missing) values in the columns\n",
    "hr_df.isnull()\n",
    "# .isnull() function checking that if missing value is present in data means it returns true\n",
    "# otherwise it returns false\n",
    "# And also True means '1'\n",
    "# And false means 0"
   ]
  },
  {
   "cell_type": "code",
   "execution_count": 38,
   "id": "f6fd281b",
   "metadata": {},
   "outputs": [
    {
     "data": {
      "text/plain": [
       "attrition               0\n",
       "performance_rating      0\n",
       "sales_quota_pct         0\n",
       "recruiting_source     205\n",
       "dtype: int64"
      ]
     },
     "execution_count": 38,
     "metadata": {},
     "output_type": "execute_result"
    }
   ],
   "source": [
    "# checking the null values in HR Analytics\n",
    "hr_df_null = hr_df.isnull().sum()\n",
    "hr_df_null\n",
    "# adding the false values(0) and true values (1)\n",
    "# Here as we can see that recruiting_source column contains more missing values\n"
   ]
  },
  {
   "cell_type": "code",
   "execution_count": 39,
   "id": "d6f830a7",
   "metadata": {},
   "outputs": [
    {
     "data": {
      "text/plain": [
       "attrition              0.000000\n",
       "performance_rating     0.000000\n",
       "sales_quota_pct        0.000000\n",
       "recruiting_source     45.964126\n",
       "dtype: float64"
      ]
     },
     "execution_count": 39,
     "metadata": {},
     "output_type": "execute_result"
    }
   ],
   "source": [
    "# calculating the null values percentage in HR Analytics\n",
    "# Another method to check the missing values is to\n",
    "#Check the percentage of null(missing) values in the columns\n",
    "hr_df.isnull().sum()/len(hr_df)*100\n",
    "#percentage method is better to check the missing values than .sum() method.\n"
   ]
  },
  {
   "cell_type": "code",
   "execution_count": 40,
   "id": "d260f6ac",
   "metadata": {},
   "outputs": [],
   "source": [
    "# Here as we can see that recruiting_source column contains more missing values than other columns"
   ]
  },
  {
   "cell_type": "code",
   "execution_count": 41,
   "id": "1a619d5d",
   "metadata": {},
   "outputs": [
    {
     "name": "stdout",
     "output_type": "stream",
     "text": [
      "4\n"
     ]
    }
   ],
   "source": [
    "# Here there are 4 columns are there in HR Analytics\n",
    "print(len(hr_df.columns))"
   ]
  },
  {
   "cell_type": "code",
   "execution_count": 42,
   "id": "5cb5c4ed",
   "metadata": {},
   "outputs": [
    {
     "data": {
      "text/plain": [
       "205"
      ]
     },
     "execution_count": 42,
     "metadata": {},
     "output_type": "execute_result"
    }
   ],
   "source": [
    "# checking the total null values in total dataset\n",
    "hr_df.isnull().sum().sum()"
   ]
  },
  {
   "cell_type": "code",
   "execution_count": 43,
   "id": "8b5792bf",
   "metadata": {},
   "outputs": [
    {
     "name": "stdout",
     "output_type": "stream",
     "text": [
      "['recruiting_source']\n"
     ]
    }
   ],
   "source": [
    "#Listing out  the missing value column names \n",
    "req_col = []\n",
    "for i in hr_df.columns:\n",
    "    if hr_df[i].isnull().sum()>0:\n",
    "         req_col.append(i)\n",
    "print(req_col)    "
   ]
  },
  {
   "cell_type": "code",
   "execution_count": 44,
   "id": "e825f698",
   "metadata": {},
   "outputs": [
    {
     "data": {
      "text/plain": [
       "1"
      ]
     },
     "execution_count": 44,
     "metadata": {},
     "output_type": "execute_result"
    }
   ],
   "source": [
    "# Total missing value columns in number\n",
    "len(req_col)"
   ]
  },
  {
   "cell_type": "code",
   "execution_count": 45,
   "id": "f62cb8f8",
   "metadata": {},
   "outputs": [
    {
     "data": {
      "text/plain": [
       "array(['Applied Online', nan, 'Campus', 'Referral', 'Search Firm'],\n",
       "      dtype=object)"
      ]
     },
     "execution_count": 45,
     "metadata": {},
     "output_type": "execute_result"
    }
   ],
   "source": [
    "# checking the unique columns that are present in the 'recruiting_source'column.\n",
    "hr_df[\"recruiting_source\"].unique()\n"
   ]
  },
  {
   "cell_type": "code",
   "execution_count": 143,
   "id": "95313495",
   "metadata": {},
   "outputs": [],
   "source": [
    "# filling the null values with 'other_source'\n",
    "hr_df['recruiting_source']=hr_df['recruiting_source'].fillna('other_source')"
   ]
  },
  {
   "cell_type": "code",
   "execution_count": 144,
   "id": "8983ae89",
   "metadata": {},
   "outputs": [
    {
     "data": {
      "text/plain": [
       "recruiting_source\n",
       "Applied Online    0.246154\n",
       "Campus            0.285714\n",
       "Referral          0.333333\n",
       "Search Firm       0.500000\n",
       "other_source      0.131707\n",
       "Name: attrition, dtype: float64"
      ]
     },
     "execution_count": 144,
     "metadata": {},
     "output_type": "execute_result"
    }
   ],
   "source": [
    "hr_df.groupby('recruiting_source')['attrition'].mean()"
   ]
  },
  {
   "cell_type": "code",
   "execution_count": 145,
   "id": "2b6c88d8",
   "metadata": {},
   "outputs": [
    {
     "data": {
      "text/plain": [
       "0"
      ]
     },
     "execution_count": 145,
     "metadata": {},
     "output_type": "execute_result"
    }
   ],
   "source": [
    "#Check the nulls in the recruiting_source column again to cross-verify\n",
    "hr_df[\"recruiting_source\"].isnull().sum()"
   ]
  },
  {
   "cell_type": "code",
   "execution_count": 146,
   "id": "9b67b114",
   "metadata": {},
   "outputs": [
    {
     "data": {
      "text/plain": [
       "attrition             0\n",
       "performance_rating    0\n",
       "sales_quota_pct       0\n",
       "recruiting_source     0\n",
       "dtype: int64"
      ]
     },
     "execution_count": 146,
     "metadata": {},
     "output_type": "execute_result"
    }
   ],
   "source": [
    "#Check the nulls in the entire dataframe again\n",
    "hr_df.isnull().sum()\n",
    "# Here the recruiting_source is not having a missing values because we filled the missing values with 'other_source'.\n"
   ]
  },
  {
   "cell_type": "code",
   "execution_count": 147,
   "id": "1243a0be",
   "metadata": {},
   "outputs": [],
   "source": [
    "# Now there is no missing values in the HR Analytics dataframe"
   ]
  },
  {
   "cell_type": "code",
   "execution_count": 148,
   "id": "3ffdea9a",
   "metadata": {},
   "outputs": [
    {
     "data": {
      "text/plain": [
       "attrition               int64\n",
       "performance_rating      int64\n",
       "sales_quota_pct       float64\n",
       "recruiting_source      object\n",
       "dtype: object"
      ]
     },
     "execution_count": 148,
     "metadata": {},
     "output_type": "execute_result"
    }
   ],
   "source": [
    "# checking the data types of HR Analytics data frame.\n",
    "hr_df.dtypes"
   ]
  },
  {
   "cell_type": "code",
   "execution_count": 149,
   "id": "044aeb17",
   "metadata": {},
   "outputs": [],
   "source": [
    "# By checking the data types there is having a correct data types in HR Analytics dataset"
   ]
  },
  {
   "cell_type": "code",
   "execution_count": 150,
   "id": "51b19b98",
   "metadata": {},
   "outputs": [
    {
     "data": {
      "text/html": [
       "<div>\n",
       "<style scoped>\n",
       "    .dataframe tbody tr th:only-of-type {\n",
       "        vertical-align: middle;\n",
       "    }\n",
       "\n",
       "    .dataframe tbody tr th {\n",
       "        vertical-align: top;\n",
       "    }\n",
       "\n",
       "    .dataframe thead th {\n",
       "        text-align: right;\n",
       "    }\n",
       "</style>\n",
       "<table border=\"1\" class=\"dataframe\">\n",
       "  <thead>\n",
       "    <tr style=\"text-align: right;\">\n",
       "      <th></th>\n",
       "      <th>attrition</th>\n",
       "      <th>performance_rating</th>\n",
       "      <th>sales_quota_pct</th>\n",
       "      <th>recruiting_source</th>\n",
       "    </tr>\n",
       "  </thead>\n",
       "  <tbody>\n",
       "    <tr>\n",
       "      <th>0</th>\n",
       "      <td>False</td>\n",
       "      <td>False</td>\n",
       "      <td>False</td>\n",
       "      <td>False</td>\n",
       "    </tr>\n",
       "    <tr>\n",
       "      <th>1</th>\n",
       "      <td>False</td>\n",
       "      <td>False</td>\n",
       "      <td>False</td>\n",
       "      <td>False</td>\n",
       "    </tr>\n",
       "    <tr>\n",
       "      <th>2</th>\n",
       "      <td>False</td>\n",
       "      <td>False</td>\n",
       "      <td>False</td>\n",
       "      <td>False</td>\n",
       "    </tr>\n",
       "    <tr>\n",
       "      <th>3</th>\n",
       "      <td>False</td>\n",
       "      <td>False</td>\n",
       "      <td>False</td>\n",
       "      <td>False</td>\n",
       "    </tr>\n",
       "    <tr>\n",
       "      <th>4</th>\n",
       "      <td>False</td>\n",
       "      <td>False</td>\n",
       "      <td>False</td>\n",
       "      <td>False</td>\n",
       "    </tr>\n",
       "    <tr>\n",
       "      <th>...</th>\n",
       "      <td>...</td>\n",
       "      <td>...</td>\n",
       "      <td>...</td>\n",
       "      <td>...</td>\n",
       "    </tr>\n",
       "    <tr>\n",
       "      <th>441</th>\n",
       "      <td>False</td>\n",
       "      <td>False</td>\n",
       "      <td>False</td>\n",
       "      <td>False</td>\n",
       "    </tr>\n",
       "    <tr>\n",
       "      <th>442</th>\n",
       "      <td>False</td>\n",
       "      <td>False</td>\n",
       "      <td>False</td>\n",
       "      <td>False</td>\n",
       "    </tr>\n",
       "    <tr>\n",
       "      <th>443</th>\n",
       "      <td>False</td>\n",
       "      <td>False</td>\n",
       "      <td>False</td>\n",
       "      <td>False</td>\n",
       "    </tr>\n",
       "    <tr>\n",
       "      <th>444</th>\n",
       "      <td>False</td>\n",
       "      <td>False</td>\n",
       "      <td>False</td>\n",
       "      <td>False</td>\n",
       "    </tr>\n",
       "    <tr>\n",
       "      <th>445</th>\n",
       "      <td>False</td>\n",
       "      <td>False</td>\n",
       "      <td>False</td>\n",
       "      <td>False</td>\n",
       "    </tr>\n",
       "  </tbody>\n",
       "</table>\n",
       "<p>446 rows × 4 columns</p>\n",
       "</div>"
      ],
      "text/plain": [
       "     attrition  performance_rating  sales_quota_pct  recruiting_source\n",
       "0        False               False            False              False\n",
       "1        False               False            False              False\n",
       "2        False               False            False              False\n",
       "3        False               False            False              False\n",
       "4        False               False            False              False\n",
       "..         ...                 ...              ...                ...\n",
       "441      False               False            False              False\n",
       "442      False               False            False              False\n",
       "443      False               False            False              False\n",
       "444      False               False            False              False\n",
       "445      False               False            False              False\n",
       "\n",
       "[446 rows x 4 columns]"
      ]
     },
     "execution_count": 150,
     "metadata": {},
     "output_type": "execute_result"
    }
   ],
   "source": [
    "# After Missing value Treatment again checking the null values of total data set.\n",
    "hr_df.isnull()"
   ]
  },
  {
   "cell_type": "code",
   "execution_count": 89,
   "id": "53653078",
   "metadata": {},
   "outputs": [],
   "source": [
    "# As we can see there is no missing values in the given dataset"
   ]
  },
  {
   "cell_type": "markdown",
   "id": "d548549b",
   "metadata": {},
   "source": [
    "# Analysis"
   ]
  },
  {
   "cell_type": "code",
   "execution_count": 90,
   "id": "cfdb9642",
   "metadata": {},
   "outputs": [
    {
     "data": {
      "image/png": "[encoded data removed]",
      "text/plain": [
       "<Figure size 640x480 with 1 Axes>"
      ]
     },
     "metadata": {},
     "output_type": "display_data"
    }
   ],
   "source": [
    "# checking the  status of HR Analytics\n",
    "import matplotlib.pyplot as plt\n",
    "import seaborn as sns\n",
    "\n",
    "hr_df=pd.read_csv(\"Recruitment_Data.csv\")\n",
    "plt.title(\" Status of HR Analytics\")\n",
    "sns.countplot(hr_df['attrition'])\n",
    "plt.show()\n",
    "\n",
    "import warnings\n",
    "warnings.filterwarnings(action=\"ignore\")"
   ]
  },
  {
   "cell_type": "code",
   "execution_count": 91,
   "id": "440bef45",
   "metadata": {},
   "outputs": [],
   "source": [
    "# comments:\n",
    "# The status of HR Analytics gives us that there are highest no.of employees who are surviving in their company and lowest no.of employees\n",
    "# who are resigned or left their job in their company."
   ]
  },
  {
   "cell_type": "markdown",
   "id": "709d35b4",
   "metadata": {},
   "source": [
    "# Univariate Analysis"
   ]
  },
  {
   "cell_type": "markdown",
   "id": "12de3ef3",
   "metadata": {},
   "source": [
    "Performing Frequency distribuion for 'attrition' column"
   ]
  },
  {
   "cell_type": "code",
   "execution_count": 131,
   "id": "cb0e705d",
   "metadata": {},
   "outputs": [
    {
     "data": {
      "image/png": "[encoded data removed]",
      "text/plain": [
       "<Figure size 640x480 with 1 Axes>"
      ]
     },
     "metadata": {},
     "output_type": "display_data"
    }
   ],
   "source": [
    "# performing Frequency distribuion for 'attrition'column\n",
    "sns.histplot(hr_df[\"attrition\"])\n",
    "plt.show()"
   ]
  },
  {
   "cell_type": "code",
   "execution_count": 132,
   "id": "4e531fc1",
   "metadata": {},
   "outputs": [],
   "source": [
    "# comments:\n",
    "#     The attrition contains high 'o' and low '1' values in HR Analytics dataframe\n",
    "# By this we can get that there are highest number of employees who are surviving in their company i.e'0' and lowest number of employees who are \n",
    "# resigned their job in their company."
   ]
  },
  {
   "cell_type": "code",
   "execution_count": 133,
   "id": "a27473b2",
   "metadata": {},
   "outputs": [
    {
     "data": {
      "image/png": "[encoded data removed]",
      "text/plain": [
       "<Figure size 640x480 with 1 Axes>"
      ]
     },
     "metadata": {},
     "output_type": "display_data"
    }
   ],
   "source": [
    "# Frequency distribution plot for \"performance_rating\" column\n",
    "sns.histplot(hr_df[\"performance_rating\"])\n",
    "plt.show()"
   ]
  },
  {
   "cell_type": "code",
   "execution_count": 134,
   "id": "06006b57",
   "metadata": {},
   "outputs": [],
   "source": [
    "#comments:\n",
    "# In \"performance_rating\" column the more no.of employees having performance rating '3' and less no.of employees having performance rating '5' in HR Analytics data.\n"
   ]
  },
  {
   "cell_type": "code",
   "execution_count": 135,
   "id": "9af0fd3f",
   "metadata": {},
   "outputs": [
    {
     "data": {
      "image/png": "[encoded data removed]",
      "text/plain": [
       "<Figure size 640x480 with 1 Axes>"
      ]
     },
     "metadata": {},
     "output_type": "display_data"
    },
    {
     "data": {
      "image/png": "[encoded data removed]",
      "text/plain": [
       "<Figure size 640x480 with 1 Axes>"
      ]
     },
     "metadata": {},
     "output_type": "display_data"
    }
   ],
   "source": [
    "# performing the statistical distribution for 'attrition'column and 'performance_rating'column to find the outliers present in \n",
    "# the dataframe.\n",
    "cont_cols=[\"attrition\",\"performance_rating\"]\n",
    "for  i in cont_cols:\n",
    "    sns.boxplot(hr_df[i])\n",
    "    plt.title(\"Statistical Distribution of \"+i)\n",
    "    plt.show()\n",
    "import warnings\n",
    "warnings.filterwarnings(action=\"ignore\")    "
   ]
  },
  {
   "cell_type": "code",
   "execution_count": 136,
   "id": "b2ed7176",
   "metadata": {},
   "outputs": [],
   "source": [
    "# comments:\n",
    "# By this statistical distribution of both columns we get to know that\n",
    "# The outliers are present in the HR Analytics data frame.\n",
    "# The outliers for 'attrition'column is resigned employees in their company.\n",
    "# The outliers for 'performance_rating' column is having less employees with rating '5'"
   ]
  },
  {
   "cell_type": "code",
   "execution_count": 152,
   "id": "860a514f",
   "metadata": {},
   "outputs": [
    {
     "data": {
      "image/png": "[encoded data removed]",
      "text/plain": [
       "<Figure size 640x480 with 1 Axes>"
      ]
     },
     "metadata": {},
     "output_type": "display_data"
    }
   ],
   "source": [
    "# pie-chart for categorical column i.e \"recruiting_source\"\n",
    "recruiting_column=hr_df[\"recruiting_source\"].value_counts(normalize=True).values\n",
    "lab=[\"Applied Online\",\"Campus\",\"Referral\",\"Search Firm\",\"other_source\"]\n",
    "plt.pie(recruiting_column,labels=lab,autopct='%0.1f%%')\n",
    "plt.legend() \n",
    "plt.show()"
   ]
  },
  {
   "cell_type": "code",
   "execution_count": 153,
   "id": "858a5f60",
   "metadata": {},
   "outputs": [],
   "source": [
    "# comments:\n",
    "# By this pie-chart we get to know that there are highest no.of employees who are Applied online and lowest number of employees who are \n",
    "# taken Search Firm source."
   ]
  },
  {
   "cell_type": "markdown",
   "id": "38b885e6",
   "metadata": {},
   "source": [
    "# Bivariate Analysis"
   ]
  },
  {
   "cell_type": "code",
   "execution_count": 154,
   "id": "ff044c62",
   "metadata": {},
   "outputs": [],
   "source": [
    "# It is used to see the relationship between two continuous varible\n",
    "# The Relation between 'attrition' column and 'performance_rating' column."
   ]
  },
  {
   "cell_type": "code",
   "execution_count": 155,
   "id": "bc15cdd9",
   "metadata": {},
   "outputs": [
    {
     "data": {
      "image/png": "[encoded data removed]",
      "text/plain": [
       "<Figure size 640x480 with 1 Axes>"
      ]
     },
     "metadata": {},
     "output_type": "display_data"
    },
    {
     "data": {
      "image/png": "[encoded data removed]",
      "text/plain": [
       "<Figure size 640x480 with 1 Axes>"
      ]
     },
     "metadata": {},
     "output_type": "display_data"
    }
   ],
   "source": [
    "for i in cont_cols:\n",
    "    for j in cont_cols:\n",
    "        if i!=j:\n",
    "            sns.scatterplot(hr_df[i],hr_df[j])\n",
    "            plt.title(\"Scatterplot \"+i+\" Vs \"+j)\n",
    "            plt.show()"
   ]
  },
  {
   "cell_type": "code",
   "execution_count": 156,
   "id": "0f70b1e6",
   "metadata": {},
   "outputs": [],
   "source": [
    "# comments:\n",
    "# There is no correlation relation between 'performance_rating'column and 'attrition' column."
   ]
  },
  {
   "cell_type": "markdown",
   "id": "81c94304",
   "metadata": {},
   "source": [
    "Which hires had lower attrition rate?\n",
    "\n",
    "Another quality of hire metric you can consider is the attrition rate, or how often hires leave the company."
   ]
  },
  {
   "cell_type": "markdown",
   "id": "4ab7efa3",
   "metadata": {},
   "source": [
    "The Average comparision between 'recruiting_source' column and 'attrition'column"
   ]
  },
  {
   "cell_type": "code",
   "execution_count": 157,
   "id": "d139582e",
   "metadata": {},
   "outputs": [
    {
     "data": {
      "image/png": "[encoded data removed]",
      "text/plain": [
       "<Figure size 500x500 with 1 Axes>"
      ]
     },
     "metadata": {},
     "output_type": "display_data"
    }
   ],
   "source": [
    "hr_df.groupby('recruiting_source')['attrition'].mean().plot(kind='bar',figsize=(5,5),cmap=\"bwr\")\n",
    "plt.legend(['attrition rate'],loc=\"upper left\")\n",
    "plt.ylabel='attrition rate (%)'\n",
    "plt.xticks(rotation=\"vertical\")\n",
    "plt.show()"
   ]
  },
  {
   "cell_type": "code",
   "execution_count": 158,
   "id": "338bbf3f",
   "metadata": {},
   "outputs": [],
   "source": [
    "# comments:\n",
    "# The comparision between 'attrition' column and 'recruiting_source'column.\n",
    "# The only search Firm source having highest 'attrition' rate when compared to other sources.while lowest for hires coming from \"Applied Online\"."
   ]
  },
  {
   "cell_type": "markdown",
   "id": "72c09437",
   "metadata": {},
   "source": [
    "Which recruiting source resulted highest sales quota retainment?\n",
    "\n",
    "Sales quota attainment is how much a salesperson sold last year relative to their quota. An employee whose sales_quota_pct equals .75 sold 75% of their quota, for example. This metric can be helpful because raw sales numbers are not always comparable between employees.\n",
    "\n"
   ]
  },
  {
   "cell_type": "markdown",
   "id": "6470d5fa",
   "metadata": {},
   "source": [
    "The Average comparision between 'recruiting_source' and 'sales_quota_pct' column"
   ]
  },
  {
   "cell_type": "code",
   "execution_count": 159,
   "id": "93fd576b",
   "metadata": {},
   "outputs": [
    {
     "data": {
      "image/png": "[encoded data removed]",
      "text/plain": [
       "<Figure size 500x500 with 1 Axes>"
      ]
     },
     "metadata": {},
     "output_type": "display_data"
    }
   ],
   "source": [
    "# Which recruiting source resulted highest sales_quota_pct?\n",
    "hr_df.groupby('recruiting_source')['sales_quota_pct'].mean().sort_values(ascending=False).plot(kind='bar',figsize=(5,5),cmap=\"viridis\")\n",
    "plt.legend(['sales_quota_pct'],loc=\"upper right\")\n",
    "plt.ylabel='sales_quota_pct (%)'\n",
    "plt.xticks(rotation=\"vertical\")\n",
    "plt.show()"
   ]
  },
  {
   "cell_type": "code",
   "execution_count": 160,
   "id": "63079d82",
   "metadata": {},
   "outputs": [],
   "source": [
    "# comments:\n",
    "# The comparision between 'recruiting_source' and 'sales_quota_pct'.\n",
    "# # The 'Applied online' having highest rate in sales_quota_pct when compared to others sources in recruiting_source."
   ]
  },
  {
   "cell_type": "markdown",
   "id": "bead5d32",
   "metadata": {},
   "source": [
    "The Average comparision between 'recruiting_source' column and 'performance_rating' column"
   ]
  },
  {
   "cell_type": "code",
   "execution_count": 161,
   "id": "1f50ff67",
   "metadata": {},
   "outputs": [
    {
     "data": {
      "image/png": "[encoded data removed]",
      "text/plain": [
       "<Figure size 500x500 with 1 Axes>"
      ]
     },
     "metadata": {},
     "output_type": "display_data"
    }
   ],
   "source": [
    "hr_df.groupby('recruiting_source')['performance_rating'].mean().sort_values(ascending=False).plot(kind='bar',figsize=(5,5),cmap=\"viridis\")\n",
    "# plt.legend(['Perfromance rating'],loc=\"upper right\")\n",
    "plt.ylabel='Perfromance rating'\n",
    "plt.xticks(rotation=\"vertical\")\n",
    "plt.show()"
   ]
  },
  {
   "cell_type": "code",
   "execution_count": 162,
   "id": "2426245b",
   "metadata": {},
   "outputs": [],
   "source": [
    "# comments:\n",
    "# The comparsion between 'recruiting_source' and 'performance_rating'.\n",
    "# This shows that the performance rating of the employees who were hired via \"Applied Online\" channel is higher than the rest. However the differences are small and \n",
    "# a statistical test is required to study the significance of the differences.\n",
    "# The Employees who are taken these sources having  performance rating nearly equal to '3'."
   ]
  },
  {
   "cell_type": "markdown",
   "id": "07f2c7a2",
   "metadata": {},
   "source": [
    "# Visualization with plotnine"
   ]
  },
  {
   "cell_type": "markdown",
   "id": "14caddec",
   "metadata": {},
   "source": [
    "Visualizing Attrition differences by Recruiting Source"
   ]
  },
  {
   "cell_type": "code",
   "execution_count": 163,
   "id": "7198652a",
   "metadata": {},
   "outputs": [
    {
     "data": {
      "image/png": "[encoded data removed]",
      "text/plain": [
       "<Figure size 640x480 with 1 Axes>"
      ]
     },
     "metadata": {},
     "output_type": "display_data"
    },
    {
     "data": {
      "text/plain": [
       "<ggplot: (144359388001)>"
      ]
     },
     "execution_count": 163,
     "metadata": {},
     "output_type": "execute_result"
    }
   ],
   "source": [
    "import pandas as pd\n",
    "hr_df=pd.read_csv(\"Recruitment_Data.csv\")\n",
    "\n",
    "from plotnine import ggplot, aes, geom_point\n",
    "\n",
    "(\n",
    "    ggplot(hr_df)\n",
    "    + aes(x=\"recruiting_source\", y=\"attrition\")\n",
    "    + geom_point()\n",
    ")"
   ]
  },
  {
   "cell_type": "markdown",
   "id": "24be8730",
   "metadata": {},
   "source": [
    "Visualizing Sales differences by Recruiting Source"
   ]
  },
  {
   "cell_type": "code",
   "execution_count": 164,
   "id": "6e54043b",
   "metadata": {},
   "outputs": [
    {
     "data": {
      "image/png": "[encoded data removed]",
      "text/plain": [
       "<Figure size 640x480 with 1 Axes>"
      ]
     },
     "metadata": {},
     "output_type": "display_data"
    },
    {
     "data": {
      "text/plain": [
       "<ggplot: (144360824061)>"
      ]
     },
     "execution_count": 164,
     "metadata": {},
     "output_type": "execute_result"
    }
   ],
   "source": [
    "from plotnine import ggplot, aes, geom_point\n",
    "\n",
    "(\n",
    "    ggplot(hr_df)\n",
    "    + aes(x=\"recruiting_source\", y=\"sales_quota_pct\")\n",
    "    + geom_point()\n",
    ")"
   ]
  },
  {
   "cell_type": "markdown",
   "id": "8263802b",
   "metadata": {},
   "source": [
    "# Multivariate Analysis"
   ]
  },
  {
   "cell_type": "code",
   "execution_count": 165,
   "id": "ac05e1b7",
   "metadata": {},
   "outputs": [
    {
     "data": {
      "image/png": "[encoded data removed]",
      "text/plain": [
       "<Figure size 800x600 with 2 Axes>"
      ]
     },
     "metadata": {},
     "output_type": "display_data"
    }
   ],
   "source": [
    "plt.figure(figsize=(8,6)) \n",
    "sns.heatmap(hr_df.corr(),annot=True)\n",
    "plt.show()"
   ]
  },
  {
   "cell_type": "code",
   "execution_count": 90,
   "id": "2fd429ef",
   "metadata": {},
   "outputs": [],
   "source": [
    "# comments:\n",
    "# The heatmap is between of 'attrition' and 'performance_rating' and 'sales_quota_pct'columns."
   ]
  },
  {
   "cell_type": "markdown",
   "id": "317f8e58",
   "metadata": {},
   "source": [
    "# Checking Average Sales Numbers and Attrition Numbers\n"
   ]
  },
  {
   "cell_type": "code",
   "execution_count": 91,
   "id": "e040e4c0",
   "metadata": {},
   "outputs": [],
   "source": [
    "# After analyzing the data and  the missing value treatment ,checking the average between sales numbers and attrition numbers."
   ]
  },
  {
   "cell_type": "markdown",
   "id": "89a237c3",
   "metadata": {},
   "source": [
    "Printing out the average Sales Number grouped by Recruiting Source"
   ]
  },
  {
   "cell_type": "code",
   "execution_count": 92,
   "id": "77310ecb",
   "metadata": {},
   "outputs": [
    {
     "name": "stdout",
     "output_type": "stream",
     "text": [
      "recruiting_source\n",
      "Applied Online    1.058590\n",
      "Campus            0.908035\n",
      "Referral          1.023198\n",
      "Search Firm       0.886960\n",
      "other_source      1.168109\n",
      "Name: sales_quota_pct, dtype: float64\n"
     ]
    }
   ],
   "source": [
    "# Group the data by Recruiting Source and compute the average Sales Number for each group\n",
    "avg_sales_by_source = hr_df.groupby('recruiting_source')['sales_quota_pct'].mean()\n",
    "\n",
    "# Print the results\n",
    "print(avg_sales_by_source)\n"
   ]
  },
  {
   "cell_type": "markdown",
   "id": "6e01802c",
   "metadata": {},
   "source": [
    "Printing out the average Attrition Number grouped by Recruiting Source\n",
    "\n"
   ]
  },
  {
   "cell_type": "code",
   "execution_count": 93,
   "id": "fa4848aa",
   "metadata": {},
   "outputs": [
    {
     "name": "stdout",
     "output_type": "stream",
     "text": [
      "recruiting_source\n",
      "Applied Online    0.246154\n",
      "Campus            0.285714\n",
      "Referral          0.333333\n",
      "Search Firm       0.500000\n",
      "other_source      0.131707\n",
      "Name: attrition, dtype: float64\n"
     ]
    }
   ],
   "source": [
    "avg_sales_by_source = hr_df.groupby('recruiting_source')['attrition'].mean()\n",
    "\n",
    "# Print the results\n",
    "print(avg_sales_by_source)\n"
   ]
  },
  {
   "cell_type": "code",
   "execution_count": 94,
   "id": "ab41fceb",
   "metadata": {},
   "outputs": [],
   "source": [
    "# comments:\n",
    "# Here the sources that have high Sales numbers and low Attrition numbers.\n"
   ]
  },
  {
   "cell_type": "markdown",
   "id": "05b264fb",
   "metadata": {},
   "source": [
    "# Identify groups in the dataset"
   ]
  },
  {
   "cell_type": "code",
   "execution_count": 95,
   "id": "61e3bfbe",
   "metadata": {},
   "outputs": [],
   "source": [
    "# After analyzing the data and missing value treatment checking the groups in the dataset amoung four columns."
   ]
  },
  {
   "cell_type": "code",
   "execution_count": 96,
   "id": "e069467d",
   "metadata": {},
   "outputs": [
    {
     "name": "stdout",
     "output_type": "stream",
     "text": [
      "                   attrition  performance_rating  sales_quota_pct\n",
      "recruiting_source                                                \n",
      "Applied Online            32                 381       137.616724\n",
      "Campus                    16                 164        50.849983\n",
      "Referral                  15                 128        46.043918\n",
      "Search Firm                5                  27         8.869603\n",
      "other_source              27                 591       239.462374\n"
     ]
    }
   ],
   "source": [
    "hr_df = pd.DataFrame(hr_df)\n",
    "\n",
    "print(hr_df.groupby([\"recruiting_source\"]).sum())\n"
   ]
  },
  {
   "cell_type": "code",
   "execution_count": 97,
   "id": "ef81d6ab",
   "metadata": {},
   "outputs": [],
   "source": [
    "grouped_df = hr_df.groupby('recruiting_source').mean()"
   ]
  },
  {
   "cell_type": "code",
   "execution_count": 98,
   "id": "e5b13ee5",
   "metadata": {},
   "outputs": [
    {
     "name": "stdout",
     "output_type": "stream",
     "text": [
      "                   attrition  performance_rating  sales_quota_pct\n",
      "recruiting_source                                                \n",
      "Applied Online      0.246154            2.930769         1.058590\n",
      "Campus              0.285714            2.928571         0.908035\n",
      "Referral            0.333333            2.844444         1.023198\n",
      "Search Firm         0.500000            2.700000         0.886960\n",
      "other_source        0.131707            2.882927         1.168109\n"
     ]
    }
   ],
   "source": [
    "print(grouped_df)"
   ]
  },
  {
   "cell_type": "code",
   "execution_count": 99,
   "id": "a06a02fa",
   "metadata": {},
   "outputs": [],
   "source": [
    "# comments:\n",
    "# After identifying the groups in the dataset we get to know that here increased the percentage of Applied online source."
   ]
  },
  {
   "cell_type": "code",
   "execution_count": 100,
   "id": "b1f6bac2",
   "metadata": {},
   "outputs": [],
   "source": [
    "# Sales Numbers indicate the performance of employees recruited from a source."
   ]
  },
  {
   "cell_type": "markdown",
   "id": "94e1fe38",
   "metadata": {},
   "source": [
    "# Insights of HR Analyitcs data:"
   ]
  },
  {
   "cell_type": "markdown",
   "id": "d2938f96",
   "metadata": {},
   "source": [
    "# Attrition Info:"
   ]
  },
  {
   "cell_type": "code",
   "execution_count": null,
   "id": "4aa2bd46",
   "metadata": {},
   "outputs": [],
   "source": [
    "# The attrition contains highest 'o' and lowest '1' values in HR Analytics dataframe\n",
    "# By this we get to know that there are highest number of employees who are surviving in their company i.e'0' and lowest number of employees who are \n",
    "# resigned their job in their company.\n",
    "# By Analyzing the data:\n",
    "# The only search Firm source having highest 'attrition' rate when compared to other sources.while lowest for hires coming from \"Applied online\""
   ]
  },
  {
   "cell_type": "markdown",
   "id": "b69109bf",
   "metadata": {},
   "source": [
    "# Performantion_rating Info:"
   ]
  },
  {
   "cell_type": "code",
   "execution_count": null,
   "id": "fb037761",
   "metadata": {},
   "outputs": [],
   "source": [
    "# In \"performance_rating\" column the more workers who are having with highest rating '3' and less employees having  rating '5' in HR Analytics data.\n",
    "# This shows that the performance rating of the employees who were hired via \"Applied Online\" channel is higher than the rest. However the differences are small and \n",
    "# a statistical test is required to study the significance of the differences."
   ]
  },
  {
   "cell_type": "markdown",
   "id": "1c6fedf6",
   "metadata": {},
   "source": [
    "# Sales_quota_pct Info:"
   ]
  },
  {
   "cell_type": "code",
   "execution_count": null,
   "id": "9085c695",
   "metadata": {},
   "outputs": [],
   "source": [
    "# The comparision between 'recruiting_source' and 'sales_quota_pct'.\n",
    "#  The 'Applied online' having highest rate in sales_quota_pct when compared to others sources in recruiting_source."
   ]
  },
  {
   "cell_type": "markdown",
   "id": "7bed92e0",
   "metadata": {},
   "source": [
    "# recruiting_source Info:\n",
    "    "
   ]
  },
  {
   "cell_type": "code",
   "execution_count": null,
   "id": "b9edd017",
   "metadata": {},
   "outputs": [],
   "source": [
    "# By this recruiting_source column we get to know that there are highest no.of employees who are taken \"Applied online\" source and lowest number of employees who are taken\n",
    "# a Search Firm source."
   ]
  },
  {
   "cell_type": "markdown",
   "id": "2ff31e86",
   "metadata": {},
   "source": [
    "# Summary:"
   ]
  },
  {
   "cell_type": "markdown",
   "id": "dfc10b29",
   "metadata": {},
   "source": [
    "1.The data is very small"
   ]
  },
  {
   "cell_type": "markdown",
   "id": "14ed970c",
   "metadata": {},
   "source": [
    "2.The data is less imbalanced"
   ]
  },
  {
   "cell_type": "markdown",
   "id": "d7c6e659",
   "metadata": {},
   "source": [
    "3.The HR Analytics data is having only 4 columns and 446 rows"
   ]
  },
  {
   "cell_type": "markdown",
   "id": "421afb0f",
   "metadata": {},
   "source": [
    "4.The attrition column is a continous column and having only 0 and 1 values i.e '0' is about employees who are surviving in \n",
    "  their company and '1' is who resigned or left their job in their company."
   ]
  },
  {
   "cell_type": "markdown",
   "id": "befc0113",
   "metadata": {},
   "source": [
    "5.The performance rating column is a continous column and having rating like 1,2,3,4,5.The highest no.of employees who got '3'rating\n",
    " in their performance in job and lowest no.of employees who got '5' in their performance in job."
   ]
  },
  {
   "cell_type": "markdown",
   "id": "f0f8c60b",
   "metadata": {},
   "source": [
    "6.The sales column is a float data type column and Sales quota attainment is how much a salesperson sold last year relative to their quota. An employee whose sales_quota_pct equals .75 sold 75% of their quota."
   ]
  },
  {
   "cell_type": "markdown",
   "id": "6b14eb5f",
   "metadata": {},
   "source": [
    "7.Sales Numbers indicate the performance of employees recruited from a source."
   ]
  },
  {
   "cell_type": "markdown",
   "id": "18bbfadb",
   "metadata": {},
   "source": [
    "8.The recruiting_source column is a categorical column having sources like 'Applied online','campus','Referral','Search Firm'."
   ]
  },
  {
   "cell_type": "markdown",
   "id": "1c6bd046",
   "metadata": {},
   "source": [
    "9.After Data Handling and Missing value Treatment, Performed Analysis"
   ]
  },
  {
   "cell_type": "markdown",
   "id": "2d971b22",
   "metadata": {},
   "source": [
    "10. Univariate Analysis on 'attrition' column and 'perfromance_rating' column and performed Analysis like pie-chart on recruiting_source column.\n",
    "    Bivariate Analysis between 'attrition' column and performance_rating column and sales_quota_pct\n",
    "    Multivariate Analysis - Heatmap"
   ]
  },
  {
   "cell_type": "markdown",
   "id": "c2bf597a",
   "metadata": {},
   "source": [
    "11.The employees in job who are came through 'Applied online' source having a less Attrition Number and high Sales Number when compared to other sources."
   ]
  },
  {
   "cell_type": "markdown",
   "id": "a657df37",
   "metadata": {},
   "source": [
    "12.Identified groups in the dataset.\n",
    "\n",
    "    "
   ]
  },
  {
   "cell_type": "markdown",
   "id": "88152eb4",
   "metadata": {},
   "source": [
    "13.By checking Average Sales Numbers and Attrition Numbers:\n",
    "     The Sources that have high Sales numbers and low Attrition numbers.\n",
    "\n",
    "    "
   ]
  },
  {
   "cell_type": "markdown",
   "id": "e19e9bae",
   "metadata": {},
   "source": [
    "# Conclusion:"
   ]
  },
  {
   "cell_type": "markdown",
   "id": "9dd34fe5",
   "metadata": {},
   "source": [
    "Which of the recruiting sources in this dataset produced the best hires, measured by attrition and sales? Which source produced the worst hires?\n",
    "\n",
    "Best source in HR Analytics: Applied Online,   Worst source in HR Analytics: Search Firm\n",
    "\n"
   ]
  },
  {
   "cell_type": "code",
   "execution_count": null,
   "id": "b3ad676a",
   "metadata": {},
   "outputs": [],
   "source": []
  }
 ],
 "metadata": {
  "kernelspec": {
   "display_name": "Python 3 (ipykernel)",
   "language": "python",
   "name": "python3"
  },
  "language_info": {
   "codemirror_mode": {
    "name": "ipython",
    "version": 3
   },
   "file_extension": ".py",
   "mimetype": "text/x-python",
   "name": "python",
   "nbconvert_exporter": "python",
   "pygments_lexer": "ipython3",
   "version": "3.9.13"
  }
 },
 "nbformat": 4,
 "nbformat_minor": 5
}
